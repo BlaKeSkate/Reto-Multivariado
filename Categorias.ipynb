{
 "cells": [
  {
   "cell_type": "code",
   "execution_count": 1,
   "metadata": {},
   "outputs": [],
   "source": [
    "import pandas as pd\n",
    "import numpy as np\n",
    "import matplotlib.pyplot as plt\n",
    "import seaborn as sn\n",
    "\n",
    "\n",
    "import warnings\n",
    "warnings.filterwarnings('ignore')\n",
    "from math import nan"
   ]
  },
  {
   "cell_type": "code",
   "execution_count": 4,
   "metadata": {},
   "outputs": [
    {
     "data": {
      "text/html": [
       "<div>\n",
       "<style scoped>\n",
       "    .dataframe tbody tr th:only-of-type {\n",
       "        vertical-align: middle;\n",
       "    }\n",
       "\n",
       "    .dataframe tbody tr th {\n",
       "        vertical-align: top;\n",
       "    }\n",
       "\n",
       "    .dataframe thead th {\n",
       "        text-align: right;\n",
       "    }\n",
       "</style>\n",
       "<table border=\"1\" class=\"dataframe\">\n",
       "  <thead>\n",
       "    <tr style=\"text-align: right;\">\n",
       "      <th></th>\n",
       "      <th>Fecha</th>\n",
       "      <th>CO</th>\n",
       "      <th>NO</th>\n",
       "      <th>NO2</th>\n",
       "      <th>NOx</th>\n",
       "      <th>O3</th>\n",
       "      <th>PM25</th>\n",
       "      <th>PM10</th>\n",
       "      <th>PRS</th>\n",
       "      <th>RAINF</th>\n",
       "      <th>RH</th>\n",
       "      <th>SO2</th>\n",
       "      <th>SR</th>\n",
       "      <th>TOUT</th>\n",
       "      <th>WD</th>\n",
       "      <th>WS</th>\n",
       "    </tr>\n",
       "  </thead>\n",
       "  <tbody>\n",
       "    <tr>\n",
       "      <th>0</th>\n",
       "      <td>1/1/2017</td>\n",
       "      <td>2.47</td>\n",
       "      <td>16.0</td>\n",
       "      <td>15.1</td>\n",
       "      <td>31.1</td>\n",
       "      <td>6.0</td>\n",
       "      <td>NaN</td>\n",
       "      <td>143.0</td>\n",
       "      <td>709.2</td>\n",
       "      <td>0.0</td>\n",
       "      <td>64.0</td>\n",
       "      <td>NaN</td>\n",
       "      <td>0.004</td>\n",
       "      <td>19.46</td>\n",
       "      <td>300.0</td>\n",
       "      <td>3.0</td>\n",
       "    </tr>\n",
       "    <tr>\n",
       "      <th>1</th>\n",
       "      <td>1/1/2017 1:00</td>\n",
       "      <td>2.18</td>\n",
       "      <td>8.9</td>\n",
       "      <td>11.7</td>\n",
       "      <td>20.6</td>\n",
       "      <td>5.0</td>\n",
       "      <td>NaN</td>\n",
       "      <td>183.0</td>\n",
       "      <td>708.9</td>\n",
       "      <td>0.0</td>\n",
       "      <td>66.0</td>\n",
       "      <td>NaN</td>\n",
       "      <td>0.004</td>\n",
       "      <td>18.92</td>\n",
       "      <td>226.0</td>\n",
       "      <td>2.0</td>\n",
       "    </tr>\n",
       "    <tr>\n",
       "      <th>2</th>\n",
       "      <td>1/1/2017 2:00</td>\n",
       "      <td>1.77</td>\n",
       "      <td>2.0</td>\n",
       "      <td>8.6</td>\n",
       "      <td>10.5</td>\n",
       "      <td>6.0</td>\n",
       "      <td>NaN</td>\n",
       "      <td>142.0</td>\n",
       "      <td>708.5</td>\n",
       "      <td>0.0</td>\n",
       "      <td>56.0</td>\n",
       "      <td>NaN</td>\n",
       "      <td>0.004</td>\n",
       "      <td>20.42</td>\n",
       "      <td>246.0</td>\n",
       "      <td>2.6</td>\n",
       "    </tr>\n",
       "    <tr>\n",
       "      <th>3</th>\n",
       "      <td>1/1/2017 3:00</td>\n",
       "      <td>1.93</td>\n",
       "      <td>7.2</td>\n",
       "      <td>10.0</td>\n",
       "      <td>17.2</td>\n",
       "      <td>7.0</td>\n",
       "      <td>NaN</td>\n",
       "      <td>101.0</td>\n",
       "      <td>708.2</td>\n",
       "      <td>0.0</td>\n",
       "      <td>52.0</td>\n",
       "      <td>NaN</td>\n",
       "      <td>0.004</td>\n",
       "      <td>21.21</td>\n",
       "      <td>152.0</td>\n",
       "      <td>5.4</td>\n",
       "    </tr>\n",
       "    <tr>\n",
       "      <th>4</th>\n",
       "      <td>1/1/2017 4:00</td>\n",
       "      <td>1.70</td>\n",
       "      <td>2.1</td>\n",
       "      <td>8.6</td>\n",
       "      <td>10.7</td>\n",
       "      <td>7.0</td>\n",
       "      <td>NaN</td>\n",
       "      <td>85.0</td>\n",
       "      <td>707.9</td>\n",
       "      <td>0.0</td>\n",
       "      <td>54.0</td>\n",
       "      <td>NaN</td>\n",
       "      <td>0.004</td>\n",
       "      <td>20.47</td>\n",
       "      <td>232.0</td>\n",
       "      <td>3.6</td>\n",
       "    </tr>\n",
       "  </tbody>\n",
       "</table>\n",
       "</div>"
      ],
      "text/plain": [
       "           Fecha    CO    NO   NO2   NOx   O3  PM25   PM10    PRS  RAINF  \\\n",
       "0       1/1/2017  2.47  16.0  15.1  31.1  6.0   NaN  143.0  709.2    0.0   \n",
       "1  1/1/2017 1:00  2.18   8.9  11.7  20.6  5.0   NaN  183.0  708.9    0.0   \n",
       "2  1/1/2017 2:00  1.77   2.0   8.6  10.5  6.0   NaN  142.0  708.5    0.0   \n",
       "3  1/1/2017 3:00  1.93   7.2  10.0  17.2  7.0   NaN  101.0  708.2    0.0   \n",
       "4  1/1/2017 4:00  1.70   2.1   8.6  10.7  7.0   NaN   85.0  707.9    0.0   \n",
       "\n",
       "     RH  SO2     SR   TOUT     WD   WS  \n",
       "0  64.0  NaN  0.004  19.46  300.0  3.0  \n",
       "1  66.0  NaN  0.004  18.92  226.0  2.0  \n",
       "2  56.0  NaN  0.004  20.42  246.0  2.6  \n",
       "3  52.0  NaN  0.004  21.21  152.0  5.4  \n",
       "4  54.0  NaN  0.004  20.47  232.0  3.6  "
      ]
     },
     "execution_count": 4,
     "metadata": {},
     "output_type": "execute_result"
    }
   ],
   "source": [
    "num = pd.read_csv(\"numeros.csv\")\n",
    "num.head()"
   ]
  },
  {
   "cell_type": "markdown",
   "metadata": {},
   "source": [
    "# Radiación solar "
   ]
  },
  {
   "cell_type": "markdown",
   "metadata": {},
   "source": [
    "Si el mismo valor aparece más de 8 o 9 horas, es un dato inválido"
   ]
  },
  {
   "cell_type": "markdown",
   "metadata": {},
   "source": [
    "En el día si es un dato inferior de 0.1 es inválido"
   ]
  },
  {
   "cell_type": "markdown",
   "metadata": {},
   "source": [
    "En la noche valores menores a 0.004 son 0"
   ]
  },
  {
   "cell_type": "markdown",
   "metadata": {},
   "source": [
    "En la noche los valores deben ser menores a 0.1, sino es inválido"
   ]
  },
  {
   "cell_type": "code",
   "execution_count": null,
   "metadata": {},
   "outputs": [],
   "source": []
  },
  {
   "cell_type": "code",
   "execution_count": null,
   "metadata": {},
   "outputs": [],
   "source": []
  }
 ],
 "metadata": {
  "kernelspec": {
   "display_name": "Python 3",
   "language": "python",
   "name": "python3"
  },
  "language_info": {
   "codemirror_mode": {
    "name": "ipython",
    "version": 3
   },
   "file_extension": ".py",
   "mimetype": "text/x-python",
   "name": "python",
   "nbconvert_exporter": "python",
   "pygments_lexer": "ipython3",
   "version": "3.8.5"
  }
 },
 "nbformat": 4,
 "nbformat_minor": 4
}
