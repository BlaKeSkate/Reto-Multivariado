{
 "cells": [
  {
   "cell_type": "code",
   "execution_count": 1,
   "metadata": {},
   "outputs": [],
   "source": [
    "import pandas as pd\n",
    "import numpy as np\n",
    "import matplotlib.pyplot as plt\n",
    "import seaborn as sn\n",
    "\n",
    "\n",
    "import warnings\n",
    "warnings.filterwarnings('ignore')\n",
    "from math import nan"
   ]
  },
  {
   "cell_type": "code",
   "execution_count": 2,
   "metadata": {},
   "outputs": [
    {
     "ename": "FileNotFoundError",
     "evalue": "[Errno 2] File C:/Users/paomo/Documents/TEC/CIENCIA DE DATOS/2/CO_2.csv does not exist: 'C:/Users/paomo/Documents/TEC/CIENCIA DE DATOS/2/CO_2.csv'",
     "output_type": "error",
     "traceback": [
      "\u001b[0;31m---------------------------------------------------------------------------\u001b[0m",
      "\u001b[0;31mFileNotFoundError\u001b[0m                         Traceback (most recent call last)",
      "\u001b[0;32m<ipython-input-2-81dfa4c457b4>\u001b[0m in \u001b[0;36m<module>\u001b[0;34m\u001b[0m\n\u001b[0;32m----> 1\u001b[0;31m \u001b[0mCO_2\u001b[0m \u001b[0;34m=\u001b[0m \u001b[0mpd\u001b[0m\u001b[0;34m.\u001b[0m\u001b[0mread_csv\u001b[0m\u001b[0;34m(\u001b[0m\u001b[0;34m\"C:/Users/paomo/Documents/TEC/CIENCIA DE DATOS/2/CO_2.csv\"\u001b[0m\u001b[0;34m)\u001b[0m\u001b[0;34m\u001b[0m\u001b[0;34m\u001b[0m\u001b[0m\n\u001b[0m\u001b[1;32m      2\u001b[0m \u001b[0mNO_2\u001b[0m \u001b[0;34m=\u001b[0m \u001b[0mpd\u001b[0m\u001b[0;34m.\u001b[0m\u001b[0mread_csv\u001b[0m\u001b[0;34m(\u001b[0m\u001b[0;34m\"C:/Users/paomo/Documents/TEC/CIENCIA DE DATOS/2/NO_2.csv\"\u001b[0m\u001b[0;34m)\u001b[0m\u001b[0;34m\u001b[0m\u001b[0;34m\u001b[0m\u001b[0m\n\u001b[1;32m      3\u001b[0m \u001b[0mNO2_2\u001b[0m \u001b[0;34m=\u001b[0m \u001b[0mpd\u001b[0m\u001b[0;34m.\u001b[0m\u001b[0mread_csv\u001b[0m\u001b[0;34m(\u001b[0m\u001b[0;34m\"C:/Users/paomo/Documents/TEC/CIENCIA DE DATOS/2/NO2_2.csv\"\u001b[0m\u001b[0;34m)\u001b[0m\u001b[0;34m\u001b[0m\u001b[0;34m\u001b[0m\u001b[0m\n\u001b[1;32m      4\u001b[0m \u001b[0mNOx_2\u001b[0m \u001b[0;34m=\u001b[0m \u001b[0mpd\u001b[0m\u001b[0;34m.\u001b[0m\u001b[0mread_csv\u001b[0m\u001b[0;34m(\u001b[0m\u001b[0;34m\"C:/Users/paomo/Documents/TEC/CIENCIA DE DATOS/2/NOx_2.csv\"\u001b[0m\u001b[0;34m)\u001b[0m\u001b[0;34m\u001b[0m\u001b[0;34m\u001b[0m\u001b[0m\n\u001b[1;32m      5\u001b[0m \u001b[0mO3_2\u001b[0m \u001b[0;34m=\u001b[0m \u001b[0mpd\u001b[0m\u001b[0;34m.\u001b[0m\u001b[0mread_csv\u001b[0m\u001b[0;34m(\u001b[0m\u001b[0;34m\"C:/Users/paomo/Documents/TEC/CIENCIA DE DATOS/2/O3_2.csv\"\u001b[0m\u001b[0;34m)\u001b[0m\u001b[0;34m\u001b[0m\u001b[0;34m\u001b[0m\u001b[0m\n",
      "\u001b[0;32m~/opt/anaconda3/lib/python3.7/site-packages/pandas/io/parsers.py\u001b[0m in \u001b[0;36mparser_f\u001b[0;34m(filepath_or_buffer, sep, delimiter, header, names, index_col, usecols, squeeze, prefix, mangle_dupe_cols, dtype, engine, converters, true_values, false_values, skipinitialspace, skiprows, skipfooter, nrows, na_values, keep_default_na, na_filter, verbose, skip_blank_lines, parse_dates, infer_datetime_format, keep_date_col, date_parser, dayfirst, cache_dates, iterator, chunksize, compression, thousands, decimal, lineterminator, quotechar, quoting, doublequote, escapechar, comment, encoding, dialect, error_bad_lines, warn_bad_lines, delim_whitespace, low_memory, memory_map, float_precision)\u001b[0m\n\u001b[1;32m    674\u001b[0m         )\n\u001b[1;32m    675\u001b[0m \u001b[0;34m\u001b[0m\u001b[0m\n\u001b[0;32m--> 676\u001b[0;31m         \u001b[0;32mreturn\u001b[0m \u001b[0m_read\u001b[0m\u001b[0;34m(\u001b[0m\u001b[0mfilepath_or_buffer\u001b[0m\u001b[0;34m,\u001b[0m \u001b[0mkwds\u001b[0m\u001b[0;34m)\u001b[0m\u001b[0;34m\u001b[0m\u001b[0;34m\u001b[0m\u001b[0m\n\u001b[0m\u001b[1;32m    677\u001b[0m \u001b[0;34m\u001b[0m\u001b[0m\n\u001b[1;32m    678\u001b[0m     \u001b[0mparser_f\u001b[0m\u001b[0;34m.\u001b[0m\u001b[0m__name__\u001b[0m \u001b[0;34m=\u001b[0m \u001b[0mname\u001b[0m\u001b[0;34m\u001b[0m\u001b[0;34m\u001b[0m\u001b[0m\n",
      "\u001b[0;32m~/opt/anaconda3/lib/python3.7/site-packages/pandas/io/parsers.py\u001b[0m in \u001b[0;36m_read\u001b[0;34m(filepath_or_buffer, kwds)\u001b[0m\n\u001b[1;32m    446\u001b[0m \u001b[0;34m\u001b[0m\u001b[0m\n\u001b[1;32m    447\u001b[0m     \u001b[0;31m# Create the parser.\u001b[0m\u001b[0;34m\u001b[0m\u001b[0;34m\u001b[0m\u001b[0;34m\u001b[0m\u001b[0m\n\u001b[0;32m--> 448\u001b[0;31m     \u001b[0mparser\u001b[0m \u001b[0;34m=\u001b[0m \u001b[0mTextFileReader\u001b[0m\u001b[0;34m(\u001b[0m\u001b[0mfp_or_buf\u001b[0m\u001b[0;34m,\u001b[0m \u001b[0;34m**\u001b[0m\u001b[0mkwds\u001b[0m\u001b[0;34m)\u001b[0m\u001b[0;34m\u001b[0m\u001b[0;34m\u001b[0m\u001b[0m\n\u001b[0m\u001b[1;32m    449\u001b[0m \u001b[0;34m\u001b[0m\u001b[0m\n\u001b[1;32m    450\u001b[0m     \u001b[0;32mif\u001b[0m \u001b[0mchunksize\u001b[0m \u001b[0;32mor\u001b[0m \u001b[0miterator\u001b[0m\u001b[0;34m:\u001b[0m\u001b[0;34m\u001b[0m\u001b[0;34m\u001b[0m\u001b[0m\n",
      "\u001b[0;32m~/opt/anaconda3/lib/python3.7/site-packages/pandas/io/parsers.py\u001b[0m in \u001b[0;36m__init__\u001b[0;34m(self, f, engine, **kwds)\u001b[0m\n\u001b[1;32m    878\u001b[0m             \u001b[0mself\u001b[0m\u001b[0;34m.\u001b[0m\u001b[0moptions\u001b[0m\u001b[0;34m[\u001b[0m\u001b[0;34m\"has_index_names\"\u001b[0m\u001b[0;34m]\u001b[0m \u001b[0;34m=\u001b[0m \u001b[0mkwds\u001b[0m\u001b[0;34m[\u001b[0m\u001b[0;34m\"has_index_names\"\u001b[0m\u001b[0;34m]\u001b[0m\u001b[0;34m\u001b[0m\u001b[0;34m\u001b[0m\u001b[0m\n\u001b[1;32m    879\u001b[0m \u001b[0;34m\u001b[0m\u001b[0m\n\u001b[0;32m--> 880\u001b[0;31m         \u001b[0mself\u001b[0m\u001b[0;34m.\u001b[0m\u001b[0m_make_engine\u001b[0m\u001b[0;34m(\u001b[0m\u001b[0mself\u001b[0m\u001b[0;34m.\u001b[0m\u001b[0mengine\u001b[0m\u001b[0;34m)\u001b[0m\u001b[0;34m\u001b[0m\u001b[0;34m\u001b[0m\u001b[0m\n\u001b[0m\u001b[1;32m    881\u001b[0m \u001b[0;34m\u001b[0m\u001b[0m\n\u001b[1;32m    882\u001b[0m     \u001b[0;32mdef\u001b[0m \u001b[0mclose\u001b[0m\u001b[0;34m(\u001b[0m\u001b[0mself\u001b[0m\u001b[0;34m)\u001b[0m\u001b[0;34m:\u001b[0m\u001b[0;34m\u001b[0m\u001b[0;34m\u001b[0m\u001b[0m\n",
      "\u001b[0;32m~/opt/anaconda3/lib/python3.7/site-packages/pandas/io/parsers.py\u001b[0m in \u001b[0;36m_make_engine\u001b[0;34m(self, engine)\u001b[0m\n\u001b[1;32m   1112\u001b[0m     \u001b[0;32mdef\u001b[0m \u001b[0m_make_engine\u001b[0m\u001b[0;34m(\u001b[0m\u001b[0mself\u001b[0m\u001b[0;34m,\u001b[0m \u001b[0mengine\u001b[0m\u001b[0;34m=\u001b[0m\u001b[0;34m\"c\"\u001b[0m\u001b[0;34m)\u001b[0m\u001b[0;34m:\u001b[0m\u001b[0;34m\u001b[0m\u001b[0;34m\u001b[0m\u001b[0m\n\u001b[1;32m   1113\u001b[0m         \u001b[0;32mif\u001b[0m \u001b[0mengine\u001b[0m \u001b[0;34m==\u001b[0m \u001b[0;34m\"c\"\u001b[0m\u001b[0;34m:\u001b[0m\u001b[0;34m\u001b[0m\u001b[0;34m\u001b[0m\u001b[0m\n\u001b[0;32m-> 1114\u001b[0;31m             \u001b[0mself\u001b[0m\u001b[0;34m.\u001b[0m\u001b[0m_engine\u001b[0m \u001b[0;34m=\u001b[0m \u001b[0mCParserWrapper\u001b[0m\u001b[0;34m(\u001b[0m\u001b[0mself\u001b[0m\u001b[0;34m.\u001b[0m\u001b[0mf\u001b[0m\u001b[0;34m,\u001b[0m \u001b[0;34m**\u001b[0m\u001b[0mself\u001b[0m\u001b[0;34m.\u001b[0m\u001b[0moptions\u001b[0m\u001b[0;34m)\u001b[0m\u001b[0;34m\u001b[0m\u001b[0;34m\u001b[0m\u001b[0m\n\u001b[0m\u001b[1;32m   1115\u001b[0m         \u001b[0;32melse\u001b[0m\u001b[0;34m:\u001b[0m\u001b[0;34m\u001b[0m\u001b[0;34m\u001b[0m\u001b[0m\n\u001b[1;32m   1116\u001b[0m             \u001b[0;32mif\u001b[0m \u001b[0mengine\u001b[0m \u001b[0;34m==\u001b[0m \u001b[0;34m\"python\"\u001b[0m\u001b[0;34m:\u001b[0m\u001b[0;34m\u001b[0m\u001b[0;34m\u001b[0m\u001b[0m\n",
      "\u001b[0;32m~/opt/anaconda3/lib/python3.7/site-packages/pandas/io/parsers.py\u001b[0m in \u001b[0;36m__init__\u001b[0;34m(self, src, **kwds)\u001b[0m\n\u001b[1;32m   1889\u001b[0m         \u001b[0mkwds\u001b[0m\u001b[0;34m[\u001b[0m\u001b[0;34m\"usecols\"\u001b[0m\u001b[0;34m]\u001b[0m \u001b[0;34m=\u001b[0m \u001b[0mself\u001b[0m\u001b[0;34m.\u001b[0m\u001b[0musecols\u001b[0m\u001b[0;34m\u001b[0m\u001b[0;34m\u001b[0m\u001b[0m\n\u001b[1;32m   1890\u001b[0m \u001b[0;34m\u001b[0m\u001b[0m\n\u001b[0;32m-> 1891\u001b[0;31m         \u001b[0mself\u001b[0m\u001b[0;34m.\u001b[0m\u001b[0m_reader\u001b[0m \u001b[0;34m=\u001b[0m \u001b[0mparsers\u001b[0m\u001b[0;34m.\u001b[0m\u001b[0mTextReader\u001b[0m\u001b[0;34m(\u001b[0m\u001b[0msrc\u001b[0m\u001b[0;34m,\u001b[0m \u001b[0;34m**\u001b[0m\u001b[0mkwds\u001b[0m\u001b[0;34m)\u001b[0m\u001b[0;34m\u001b[0m\u001b[0;34m\u001b[0m\u001b[0m\n\u001b[0m\u001b[1;32m   1892\u001b[0m         \u001b[0mself\u001b[0m\u001b[0;34m.\u001b[0m\u001b[0munnamed_cols\u001b[0m \u001b[0;34m=\u001b[0m \u001b[0mself\u001b[0m\u001b[0;34m.\u001b[0m\u001b[0m_reader\u001b[0m\u001b[0;34m.\u001b[0m\u001b[0munnamed_cols\u001b[0m\u001b[0;34m\u001b[0m\u001b[0;34m\u001b[0m\u001b[0m\n\u001b[1;32m   1893\u001b[0m \u001b[0;34m\u001b[0m\u001b[0m\n",
      "\u001b[0;32mpandas/_libs/parsers.pyx\u001b[0m in \u001b[0;36mpandas._libs.parsers.TextReader.__cinit__\u001b[0;34m()\u001b[0m\n",
      "\u001b[0;32mpandas/_libs/parsers.pyx\u001b[0m in \u001b[0;36mpandas._libs.parsers.TextReader._setup_parser_source\u001b[0;34m()\u001b[0m\n",
      "\u001b[0;31mFileNotFoundError\u001b[0m: [Errno 2] File C:/Users/paomo/Documents/TEC/CIENCIA DE DATOS/2/CO_2.csv does not exist: 'C:/Users/paomo/Documents/TEC/CIENCIA DE DATOS/2/CO_2.csv'"
     ]
    }
   ],
   "source": [
    "CO_2 = pd.read_csv(\"C:/Users/paomo/Documents/TEC/CIENCIA DE DATOS/2/CO_2.csv\")\n",
    "NO_2 = pd.read_csv(\"C:/Users/paomo/Documents/TEC/CIENCIA DE DATOS/2/NO_2.csv\")\n",
    "NO2_2 = pd.read_csv(\"C:/Users/paomo/Documents/TEC/CIENCIA DE DATOS/2/NO2_2.csv\")\n",
    "NOx_2 = pd.read_csv(\"C:/Users/paomo/Documents/TEC/CIENCIA DE DATOS/2/NOx_2.csv\")\n",
    "O3_2 = pd.read_csv(\"C:/Users/paomo/Documents/TEC/CIENCIA DE DATOS/2/O3_2.csv\")\n",
    "PM25_2 = pd.read_csv(\"C:/Users/paomo/Documents/TEC/CIENCIA DE DATOS/2/PM25_2.csv\")\n",
    "PM10_2 = pd.read_csv(\"C:/Users/paomo/Documents/TEC/CIENCIA DE DATOS/2/PM10_2.csv\")\n",
    "PRS_2 = pd.read_csv(\"C:/Users/paomo/Documents/TEC/CIENCIA DE DATOS/2/PRS_2.csv\")\n",
    "RAINF_2 = pd.read_csv(\"C:/Users/paomo/Documents/TEC/CIENCIA DE DATOS/2/RAINF_2.csv\")\n",
    "RH_2 = pd.read_csv(\"C:/Users/paomo/Documents/TEC/CIENCIA DE DATOS/2/RH_2.csv\")\n",
    "SO2_2 = pd.read_csv(\"C:/Users/paomo/Documents/TEC/CIENCIA DE DATOS/2/SO2_2.csv\")\n",
    "SR_2 = pd.read_csv(\"C:/Users/paomo/Documents/TEC/CIENCIA DE DATOS/2/SR_2.csv\")\n",
    "TOUT_2 = pd.read_csv(\"C:/Users/paomo/Documents/TEC/CIENCIA DE DATOS/2/TOUT_2.csv\")\n",
    "WD_2 = pd.read_csv(\"C:/Users/paomo/Documents/TEC/CIENCIA DE DATOS/2/WD_2.csv\")\n",
    "WS_2 = pd.read_csv(\"C:/Users/paomo/Documents/TEC/CIENCIA DE DATOS/2/WS_2.csv\")\n"
   ]
  },
  {
   "cell_type": "code",
   "execution_count": null,
   "metadata": {},
   "outputs": [],
   "source": [
    "CO = pd.read_csv(\"C:/Users/paomo/Documents/TEC/CIENCIA DE DATOS/2/CO.csv\")\n",
    "NO = pd.read_csv(\"C:/Users/paomo/Documents/TEC/CIENCIA DE DATOS/2/NO.csv\")\n",
    "NO2 = pd.read_csv(\"C:/Users/paomo/Documents/TEC/CIENCIA DE DATOS/2/NO2.csv\")\n",
    "NOx = pd.read_csv(\"C:/Users/paomo/Documents/TEC/CIENCIA DE DATOS/2/NOx.csv\")\n",
    "O3 = pd.read_csv(\"C:/Users/paomo/Documents/TEC/CIENCIA DE DATOS/2/O3.csv\")\n",
    "PM25 = pd.read_csv(\"C:/Users/paomo/Documents/TEC/CIENCIA DE DATOS/2/PM25.csv\")\n",
    "PM10 = pd.read_csv(\"C:/Users/paomo/Documents/TEC/CIENCIA DE DATOS/2/PM10.csv\")\n",
    "PRS = pd.read_csv(\"C:/Users/paomo/Documents/TEC/CIENCIA DE DATOS/2/PRS.csv\")\n",
    "RAINF = pd.read_csv(\"C:/Users/paomo/Documents/TEC/CIENCIA DE DATOS/2/RAINF.csv\")\n",
    "RH = pd.read_csv(\"C:/Users/paomo/Documents/TEC/CIENCIA DE DATOS/2/RH.csv\")\n",
    "SO2 = pd.read_csv(\"C:/Users/paomo/Documents/TEC/CIENCIA DE DATOS/2/SO2.csv\")\n",
    "SR = pd.read_csv(\"C:/Users/paomo/Documents/TEC/CIENCIA DE DATOS/2/SR.csv\")\n",
    "TOUT = pd.read_csv(\"C:/Users/paomo/Documents/TEC/CIENCIA DE DATOS/2/TOUT.csv\")\n",
    "WD = pd.read_csv(\"C:/Users/paomo/Documents/TEC/CIENCIA DE DATOS/2/WD.csv\")\n",
    "WS = pd.read_csv(\"C:/Users/paomo/Documents/TEC/CIENCIA DE DATOS/2/WS.csv\")\n"
   ]
  },
  {
   "cell_type": "code",
   "execution_count": null,
   "metadata": {},
   "outputs": [],
   "source": [
    "CO.head()"
   ]
  },
  {
   "cell_type": "code",
   "execution_count": null,
   "metadata": {},
   "outputs": [],
   "source": [
    "CO_2 = CO_2.drop(columns=['CE b'])\n",
    "NO_2 = NO_2.drop(columns=['CE b'])\n",
    "NO2_2 = NO2_2.drop(columns=['CE b'])\n",
    "NOx_2 = NOx_2.drop(columns=['CE b'])\n",
    "O3_2 = O3_2.drop(columns=['CE b'])\n",
    "PM25_2 = PM25_2.drop(columns=['CE b'])\n",
    "PM10_2 = PM10_2.drop(columns=['CE b'])\n",
    "PRS_2 = PRS_2.drop(columns=['CE b'])\n",
    "RAINF_2 = RAINF_2.drop(columns=['CE b'])\n",
    "RH_2 = RH_2.drop(columns=['CE b'])\n",
    "SO2_2 = SO2_2.drop(columns=['CE b'])\n",
    "SR_2 = SR_2.drop(columns=['CE b'])\n",
    "TOUT_2 = TOUT_2.drop(columns=['CE b'])\n",
    "WD_2 = WD_2.drop(columns=['CE b'])\n",
    "WS_2 = WS_2.drop(columns=['CE b'])\n"
   ]
  },
  {
   "cell_type": "code",
   "execution_count": null,
   "metadata": {},
   "outputs": [],
   "source": [
    "df = pd.merge(CO_2, NO_2, on='Fecha', how='outer')\n",
    "df = pd.merge(df, NO2_2, on='Fecha', how='outer')\n",
    "df = pd.merge(df, NOx_2, on='Fecha', how='outer')\n",
    "df = pd.merge(df, O3_2, on='Fecha', how='outer')\n",
    "df = pd.merge(df, PM25_2, on='Fecha', how='outer')\n",
    "df = pd.merge(df, PM10_2, on='Fecha', how='outer')\n",
    "df = pd.merge(df, PRS_2, on='Fecha', how='outer')\n",
    "df = pd.merge(df, RAINF_2, on='Fecha', how='outer')\n",
    "df = pd.merge(df, RH_2, on='Fecha', how='outer')\n",
    "df = pd.merge(df, SO2_2, on='Fecha', how='outer')\n",
    "df = pd.merge(df, SR_2, on='Fecha', how='outer')\n",
    "df = pd.merge(df, TOUT_2, on='Fecha', how='outer')\n",
    "df = pd.merge(df, WD_2, on='Fecha', how='outer')\n",
    "df = pd.merge(df, WS_2, on='Fecha', how='outer')\n",
    "\n",
    "df.head()"
   ]
  },
  {
   "cell_type": "code",
   "execution_count": null,
   "metadata": {},
   "outputs": [],
   "source": [
    "df = df.drop(columns=['parametro_x'])\n",
    "df = df.drop(columns=['parametro_y'])\n",
    "df = df.drop(columns=['parametro'])"
   ]
  },
  {
   "cell_type": "code",
   "execution_count": null,
   "metadata": {},
   "outputs": [],
   "source": [
    "df"
   ]
  },
  {
   "cell_type": "code",
   "execution_count": null,
   "metadata": {},
   "outputs": [],
   "source": [
    "df.columns = ['Fecha','CO','NO', 'NO2',  'NOx', 'O3', 'PM25', 'PM10', 'PRS', 'RAINF', 'RH', 'SO2', 'SR', 'TOUT', 'WD', 'WS']\n",
    "df "
   ]
  },
  {
   "cell_type": "code",
   "execution_count": null,
   "metadata": {},
   "outputs": [],
   "source": [
    "df.info"
   ]
  },
  {
   "cell_type": "code",
   "execution_count": null,
   "metadata": {},
   "outputs": [],
   "source": []
  }
 ],
 "metadata": {
  "kernelspec": {
   "display_name": "Python 3",
   "language": "python",
   "name": "python3"
  },
  "language_info": {
   "codemirror_mode": {
    "name": "ipython",
    "version": 3
   },
   "file_extension": ".py",
   "mimetype": "text/x-python",
   "name": "python",
   "nbconvert_exporter": "python",
   "pygments_lexer": "ipython3",
   "version": "3.7.6"
  }
 },
 "nbformat": 4,
 "nbformat_minor": 4
}
